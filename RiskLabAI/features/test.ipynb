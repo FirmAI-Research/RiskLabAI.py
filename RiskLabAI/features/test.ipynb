{
 "cells": [
  {
   "cell_type": "code",
   "execution_count": null,
   "metadata": {},
   "outputs": [],
   "source": [
    "import FeatureImportanceController\n",
    "import ClusteredFeatureImportanceMDI\n",
    "\n",
    "ClusteredFeatureImportanceMDI()\n",
    "\n",
    "fic = FeatureImportanceController(\"MDI\", )\n",
    "fic"
   ]
  }
 ],
 "metadata": {
  "language_info": {
   "name": "python"
  },
  "orig_nbformat": 4
 },
 "nbformat": 4,
 "nbformat_minor": 2
}
